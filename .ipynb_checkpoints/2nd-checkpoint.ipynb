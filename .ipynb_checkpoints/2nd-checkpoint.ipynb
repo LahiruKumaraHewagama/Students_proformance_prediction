{
 "cells": [
  {
   "cell_type": "code",
   "execution_count": 27,
   "metadata": {},
   "outputs": [],
   "source": [
    "#imports\n",
    "import pandas as pd\n",
    "import csv"
   ]
  },
  {
   "cell_type": "code",
   "execution_count": 28,
   "metadata": {},
   "outputs": [],
   "source": [
    "data_path1 = 'D:/CodeEarn/SP Research/student-por.csv'\n",
    "data_path2 = 'D:/CodeEarn/SP Research/student-mat.csv'"
   ]
  },
  {
   "cell_type": "code",
   "execution_count": 29,
   "metadata": {},
   "outputs": [],
   "source": [
    "rows = []\n",
    "with open(data_path1) as infile:\n",
    "    count=0\n",
    "    # Create a new reader\n",
    "    reader = csv.reader(infile) \n",
    "    #next(reader) # Skip the first row\n",
    "    for row in reader:\n",
    "        row_1=[i.replace(\"\\\"\", \"\") for i in row[0].split(\";\")]       \n",
    "        if(count!=0):\n",
    "            target=int(row_1[32])\n",
    "            if(0<=target<9):\n",
    "                row_1[32]=\"C\"\n",
    "            elif(9<=target<15):\n",
    "                row_1[32]=\"B\"\n",
    "            else:\n",
    "                row_1[32]=\"A\"\n",
    "        rows.append(row_1)\n",
    "        count=1\n"
   ]
  },
  {
   "cell_type": "code",
   "execution_count": 30,
   "metadata": {},
   "outputs": [],
   "source": [
    "with open(data_path2) as infile:\n",
    "    count=0\n",
    "    # Create a new reader\n",
    "    reader = csv.reader(infile) \n",
    "    #next(reader) # Skip the first row\n",
    "    for row in reader:\n",
    "        row_1=[i.replace(\"\\\"\", \"\") for i in row[0].split(\";\")]       \n",
    "        if(count!=0):\n",
    "            target=int(row_1[32])\n",
    "            if(0<=target<9):\n",
    "                row_1[32]=\"C\"\n",
    "            elif(9<=target<15):\n",
    "                row_1[32]=\"B\"\n",
    "            else:\n",
    "                row_1[32]=\"A\"\n",
    "        rows.append(row_1)\n",
    "        count=1"
   ]
  },
  {
   "cell_type": "code",
   "execution_count": 31,
   "metadata": {},
   "outputs": [],
   "source": [
    "df = pd.read_csv('formatted_data.csv')\n"
   ]
  },
  {
   "cell_type": "code",
   "execution_count": 33,
   "metadata": {},
   "outputs": [
    {
     "data": {
      "text/plain": [
       "G3\n",
       "B     673\n",
       "A     204\n",
       "C     167\n",
       "dtype: int64"
      ]
     },
     "execution_count": 33,
     "metadata": {},
     "output_type": "execute_result"
    }
   ],
   "source": [
    "lable_counts = df[['G3']].value_counts()\n",
    "lable_counts"
   ]
  },
  {
   "cell_type": "code",
   "execution_count": 35,
   "metadata": {},
   "outputs": [
    {
     "data": {
      "text/plain": [
       "<matplotlib.axes._subplots.AxesSubplot at 0x1e6114a9e20>"
      ]
     },
     "execution_count": 35,
     "metadata": {},
     "output_type": "execute_result"
    },
    {
     "data": {
      "image/png": "[encoded data removed]",
      "text/plain": [
       "<Figure size 432x288 with 1 Axes>"
      ]
     },
     "metadata": {
      "needs_background": "light"
     },
     "output_type": "display_data"
    }
   ],
   "source": [
    "lable_counts.plot(kind = 'barh', )"
   ]
  },
  {
   "cell_type": "raw",
   "metadata": {},
   "source": [
    "In thge dataset, there are values more than 600 and others are comparely less than that amount. So, dataset is imbalanced."
   ]
  },
  {
   "cell_type": "code",
   "execution_count": null,
   "metadata": {},
   "outputs": [],
   "source": []
  },
  {
   "cell_type": "code",
   "execution_count": null,
   "metadata": {},
   "outputs": [],
   "source": []
  }
 ],
 "metadata": {
  "kernelspec": {
   "display_name": "Python 3",
   "language": "python",
   "name": "python3"
  },
  "language_info": {
   "codemirror_mode": {
    "name": "ipython",
    "version": 3
   },
   "file_extension": ".py",
   "mimetype": "text/x-python",
   "name": "python",
   "nbconvert_exporter": "python",
   "pygments_lexer": "ipython3",
   "version": "3.8.3"
  }
 },
 "nbformat": 4,
 "nbformat_minor": 4
}
